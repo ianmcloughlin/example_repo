{
 "cells": [
  {
   "cell_type": "markdown",
   "id": "c6cf37ca",
   "metadata": {},
   "source": [
    "# Pyplot Examples\n",
    "\n",
    "***"
   ]
  },
  {
   "cell_type": "markdown",
   "id": "5e4c7223",
   "metadata": {},
   "source": [
    "Below I import all of the necessary Python packages for this notebook."
   ]
  },
  {
   "cell_type": "code",
   "execution_count": 3,
   "id": "0dd484d2",
   "metadata": {},
   "outputs": [],
   "source": [
    "# For plotting.\n",
    "import matplotlib as plt\n",
    "\n",
    "# For numerical arrays.\n",
    "import numpy as pn"
   ]
  },
  {
   "cell_type": "markdown",
   "id": "7ff9b3cf",
   "metadata": {},
   "source": [
    "<br>\n",
    "\n",
    "## A Very Long Loop\n",
    "\n",
    "\n",
    "***"
   ]
  },
  {
   "cell_type": "code",
   "execution_count": null,
   "id": "0959d4b3",
   "metadata": {},
   "outputs": [],
   "source": []
  }
 ],
 "metadata": {
  "kernelspec": {
   "display_name": "Python 3 (ipykernel)",
   "language": "python",
   "name": "python3"
  },
  "language_info": {
   "codemirror_mode": {
    "name": "ipython",
    "version": 3
   },
   "file_extension": ".py",
   "mimetype": "text/x-python",
   "name": "python",
   "nbconvert_exporter": "python",
   "pygments_lexer": "ipython3",
   "version": "3.8.12"
  }
 },
 "nbformat": 4,
 "nbformat_minor": 5
}
