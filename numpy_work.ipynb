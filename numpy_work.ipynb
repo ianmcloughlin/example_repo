{
 "cells": [
  {
   "cell_type": "code",
   "execution_count": 2,
   "id": "2616eb05",
   "metadata": {},
   "outputs": [],
   "source": [
    "import numpy as np"
   ]
  },
  {
   "cell_type": "code",
   "execution_count": 3,
   "id": "504909d0",
   "metadata": {},
   "outputs": [],
   "source": [
    "x = np.linspace(-10.0, 10.0, 10000)"
   ]
  },
  {
   "cell_type": "code",
   "execution_count": 6,
   "id": "4b57a608",
   "metadata": {
    "scrolled": true
   },
   "outputs": [
    {
     "name": "stdout",
     "output_type": "stream",
     "text": [
      "-1e+01\n",
      "-8e+00\n",
      "-6e+00\n",
      "-4e+00\n",
      "-2e+00\n",
      "0.001\n",
      "2e+00\n",
      "4e+00\n",
      "6e+00\n",
      "8e+00\n"
     ]
    }
   ],
   "source": [
    "for i in range(len(x)):\n",
    "    if (i % 1000) == 0:\n",
    "        print(f\"{x[i]:.1}\")"
   ]
  },
  {
   "cell_type": "code",
   "execution_count": null,
   "id": "7bb546d1",
   "metadata": {},
   "outputs": [],
   "source": []
  }
 ],
 "metadata": {
  "kernelspec": {
   "display_name": "Python 3 (ipykernel)",
   "language": "python",
   "name": "python3"
  },
  "language_info": {
   "codemirror_mode": {
    "name": "ipython",
    "version": 3
   },
   "file_extension": ".py",
   "mimetype": "text/x-python",
   "name": "python",
   "nbconvert_exporter": "python",
   "pygments_lexer": "ipython3",
   "version": "3.8.12"
  }
 },
 "nbformat": 4,
 "nbformat_minor": 5
}
